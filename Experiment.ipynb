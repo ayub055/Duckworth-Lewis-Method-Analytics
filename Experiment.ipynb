{
 "cells": [
  {
   "cell_type": "code",
   "execution_count": 14,
   "id": "b9ddb584",
   "metadata": {},
   "outputs": [],
   "source": [
    "import os\n",
    "import pickle\n",
    "import numpy as np\n",
    "import scipy as sp\n",
    "import pandas as pd\n",
    "import matplotlib.pyplot as plt\n",
    "from typing import List, Union"
   ]
  },
  {
   "cell_type": "code",
   "execution_count": 15,
   "id": "a2d4d5e1",
   "metadata": {},
   "outputs": [],
   "source": [
    "data_path = \"../data/04_cricket_1999to2011.csv\""
   ]
  },
  {
   "cell_type": "code",
   "execution_count": 16,
   "id": "912bd968",
   "metadata": {},
   "outputs": [],
   "source": [
    "def get_data(data_path) -> Union[pd.DataFrame, np.ndarray]:\n",
    "    \"\"\"\n",
    "    Loads the data from the given path and returns a pandas dataframe.\n",
    "\n",
    "    Args:\n",
    "        path (str): Path to the data file.\n",
    "\n",
    "    Returns:\n",
    "        pd.DataFrame, np.ndarray: Data Structure containing the loaded data\n",
    "        \n",
    "    \"\"\"\n",
    "    try:\n",
    "        data = pd.read_csv(data_path)\n",
    "        return data\n",
    "    except FileNotFoundError:\n",
    "        print(f\"File not found at '{data_path}'. Please provide the correct path.\")\n",
    "        return None\n",
    "    \n",
    "    "
   ]
  },
  {
   "cell_type": "code",
   "execution_count": 17,
   "id": "830559d9",
   "metadata": {},
   "outputs": [
    {
     "name": "stdout",
     "output_type": "stream",
     "text": [
      "File not found at '../data/04_cricket_1999to2011.csv'. Please provide the correct path.\n"
     ]
    }
   ],
   "source": [
    "get_data(data_path)"
   ]
  },
  {
   "cell_type": "code",
   "execution_count": null,
   "id": "f83c8edd",
   "metadata": {},
   "outputs": [],
   "source": []
  }
 ],
 "metadata": {
  "kernelspec": {
   "display_name": "Python 3 (ipykernel)",
   "language": "python",
   "name": "python3"
  },
  "language_info": {
   "codemirror_mode": {
    "name": "ipython",
    "version": 3
   },
   "file_extension": ".py",
   "mimetype": "text/x-python",
   "name": "python",
   "nbconvert_exporter": "python",
   "pygments_lexer": "ipython3",
   "version": "3.11.4"
  }
 },
 "nbformat": 4,
 "nbformat_minor": 5
}
