{
 "cells": [
  {
   "cell_type": "code",
   "execution_count": 1,
   "id": "0dfd3326",
   "metadata": {},
   "outputs": [],
   "source": [
    "import os\n",
    "import pickle\n",
    "import numpy as np\n",
    "import scipy as sp\n",
    "import pandas as pd\n",
    "import matplotlib.pyplot as plt\n",
    "from typing import List, Union"
   ]
  },
  {
   "cell_type": "code",
   "execution_count": 2,
   "id": "050f1299",
   "metadata": {},
   "outputs": [],
   "source": [
    "data_path = \"../data/04_cricket_1999to2011.csv\""
   ]
  },
  {
   "cell_type": "code",
   "execution_count": 3,
   "id": "2b6f41b9",
   "metadata": {},
   "outputs": [],
   "source": [
    "def get_data(data_path) -> Union[pd.DataFrame, np.ndarray]:\n",
    "    \"\"\"\n",
    "    Loads the data from the given path and returns a pandas dataframe.\n",
    "\n",
    "    Args:\n",
    "        path (str): Path to the data file.\n",
    "\n",
    "    Returns:\n",
    "        pd.DataFrame, np.ndarray: Data Structure containing the loaded data\n",
    "        \n",
    "    \"\"\"\n",
    "    try:\n",
    "        data = pd.read_csv(data_path)\n",
    "        return data\n",
    "    except FileNotFoundError:\n",
    "        print(f\"File not found at '{data_path}'. Please provide the correct path.\")\n",
    "        return None\n",
    "    \n",
    "    "
   ]
  },
  {
   "cell_type": "code",
   "execution_count": 4,
   "id": "356019cb",
   "metadata": {},
   "outputs": [
    {
     "name": "stdout",
     "output_type": "stream",
     "text": [
      "<class 'pandas.core.frame.DataFrame'>\n",
      "RangeIndex: 126768 entries, 0 to 126767\n",
      "Data columns (total 38 columns):\n",
      " #   Column                     Non-Null Count   Dtype  \n",
      "---  ------                     --------------   -----  \n",
      " 0   Match                      126768 non-null  int64  \n",
      " 1   Date                       126768 non-null  object \n",
      " 2   Innings                    126768 non-null  int64  \n",
      " 3   Over                       126768 non-null  int64  \n",
      " 4   Runs                       126768 non-null  int64  \n",
      " 5   Total.Runs                 126768 non-null  int64  \n",
      " 6   Innings.Total.Runs         126768 non-null  int64  \n",
      " 7   Runs.Remaining             126768 non-null  int64  \n",
      " 8   Total.Out                  126768 non-null  int64  \n",
      " 9   Innings.Total.Out          126768 non-null  int64  \n",
      " 10  Outs.Remaining             126768 non-null  int64  \n",
      " 11  Wickets.in.Hand            126768 non-null  int64  \n",
      " 12  Run.Rate                   126768 non-null  float64\n",
      " 13  Innings.Run.Rate           126768 non-null  float64\n",
      " 14  Run.Rate.Required          125659 non-null  float64\n",
      " 15  Initial.Run.Rate.Required  126768 non-null  float64\n",
      " 16  Target.Score               126768 non-null  int64  \n",
      " 17  Day-night                  126768 non-null  int64  \n",
      " 18  At.Bat                     126768 non-null  object \n",
      " 19  Fielding                   126768 non-null  object \n",
      " 20  Home.Team                  126768 non-null  object \n",
      " 21  Away.Team                  126768 non-null  object \n",
      " 22  Stadium                    126768 non-null  object \n",
      " 23  Country                    126768 non-null  object \n",
      " 24  Total.Overs                126768 non-null  int64  \n",
      " 25  Winning.Team               126768 non-null  object \n",
      " 26  Toss.Winner                126768 non-null  object \n",
      " 27  at.bat.wins                126768 non-null  int64  \n",
      " 28  at.bat.won.toss            126768 non-null  int64  \n",
      " 29  at.bat.at.home             126768 non-null  int64  \n",
      " 30  at.bat.bat.first           126768 non-null  int64  \n",
      " 31  chose_bat_1st              126768 non-null  int64  \n",
      " 32  chose_bat_2nd              126768 non-null  int64  \n",
      " 33  forced_bat_1st             126768 non-null  int64  \n",
      " 34  forced_bat_2nd             126768 non-null  int64  \n",
      " 35  new.game                   126768 non-null  int64  \n",
      " 36  Error.In.Data              126768 non-null  int64  \n",
      " 37  common.support             126768 non-null  int64  \n",
      "dtypes: float64(4), int64(25), object(9)\n",
      "memory usage: 36.8+ MB\n"
     ]
    }
   ],
   "source": [
    "data = get_data(data_path)\n",
    "data.info()"
   ]
  },
  {
   "cell_type": "code",
   "execution_count": 5,
   "id": "47b53ada",
   "metadata": {
    "scrolled": true
   },
   "outputs": [
    {
     "name": "stdout",
     "output_type": "stream",
     "text": [
      "Are there any Null Values in dataset? ---- True\n",
      "Total null values in dataset? ---- 1109\n"
     ]
    }
   ],
   "source": [
    "print(f\"Are there any Null Values in dataset? ---- {data.isnull().values.any()}\")\n",
    "print(f\"Total null values in dataset? ---- {data.isnull().sum().sum()}\")"
   ]
  },
  {
   "cell_type": "code",
   "execution_count": 6,
   "id": "1aaee1a9",
   "metadata": {},
   "outputs": [
    {
     "data": {
      "text/plain": [
       "['Match',\n",
       " 'Date',\n",
       " 'Innings',\n",
       " 'Over',\n",
       " 'Runs',\n",
       " 'Total.Runs',\n",
       " 'Innings.Total.Runs',\n",
       " 'Runs.Remaining',\n",
       " 'Total.Out',\n",
       " 'Innings.Total.Out',\n",
       " 'Outs.Remaining',\n",
       " 'Wickets.in.Hand',\n",
       " 'Run.Rate',\n",
       " 'Innings.Run.Rate',\n",
       " 'Run.Rate.Required',\n",
       " 'Initial.Run.Rate.Required',\n",
       " 'Target.Score',\n",
       " 'Day-night',\n",
       " 'At.Bat',\n",
       " 'Fielding',\n",
       " 'Home.Team',\n",
       " 'Away.Team',\n",
       " 'Stadium',\n",
       " 'Country',\n",
       " 'Total.Overs',\n",
       " 'Winning.Team',\n",
       " 'Toss.Winner',\n",
       " 'at.bat.wins',\n",
       " 'at.bat.won.toss',\n",
       " 'at.bat.at.home',\n",
       " 'at.bat.bat.first',\n",
       " 'chose_bat_1st',\n",
       " 'chose_bat_2nd',\n",
       " 'forced_bat_1st',\n",
       " 'forced_bat_2nd',\n",
       " 'new.game',\n",
       " 'Error.In.Data',\n",
       " 'common.support']"
      ]
     },
     "execution_count": 6,
     "metadata": {},
     "output_type": "execute_result"
    }
   ],
   "source": [
    "column_names = list(data.columns.values)\n",
    "column_names"
   ]
  },
  {
   "cell_type": "code",
   "execution_count": 7,
   "id": "5cb86257",
   "metadata": {},
   "outputs": [
    {
     "data": {
      "text/plain": [
       "False"
      ]
     },
     "execution_count": 7,
     "metadata": {},
     "output_type": "execute_result"
    }
   ],
   "source": [
    "data['Error.In.Data'].isnull().values.any()"
   ]
  },
  {
   "cell_type": "code",
   "execution_count": 8,
   "id": "8e2158c0",
   "metadata": {},
   "outputs": [],
   "source": [
    "def check_null_values(dataset):\n",
    "    df = pd.DataFrame(dataset)\n",
    "    null_info = {}\n",
    "\n",
    "    for column in df.columns:\n",
    "        null_count = df[column].isnull().sum()\n",
    "        null_info[column] = null_count\n",
    "\n",
    "    return null_info\n",
    "\n",
    "import matplotlib.pyplot as plt\n",
    "\n",
    "def dict_plot(null_info):\n",
    "    mylist = [key for key, val in null_info.items() for _ in range(val)]\n",
    "    plt.hist(mylist, bins=20)\n",
    "    plt.show()\n"
   ]
  },
  {
   "cell_type": "code",
   "execution_count": 9,
   "id": "ed2240c2",
   "metadata": {
    "scrolled": true
   },
   "outputs": [
    {
     "data": {
      "image/png": "[encoded data removed]",
      "text/plain": [
       "<Figure size 640x480 with 1 Axes>"
      ]
     },
     "metadata": {},
     "output_type": "display_data"
    },
    {
     "name": "stdout",
     "output_type": "stream",
     "text": [
      "Only Required-Run-Rate has NaN Values\n"
     ]
    }
   ],
   "source": [
    "null_info = check_null_values(data)\n",
    "dict_plot(null_info)\n",
    "print(f\"Only Required-Run-Rate has NaN Values\")"
   ]
  },
  {
   "cell_type": "code",
   "execution_count": 10,
   "id": "48222d28",
   "metadata": {},
   "outputs": [],
   "source": [
    "#data = data.dropna()"
   ]
  },
  {
   "cell_type": "code",
   "execution_count": 11,
   "id": "d7a53176",
   "metadata": {},
   "outputs": [],
   "source": [
    "def null_details(data: Union[pd.DataFrame, np.ndarray]):\n",
    "    print(f\"Are there any Null Values in dataset? ---- {data.isnull().values.any()}\")\n",
    "    print(f\"Total null values in dataset? ---- {data.isnull().sum().sum()}\")\n",
    "    print(f\"The size of our dataset is {len(data)}\")\n",
    "    print(f\"The size of our dataset is {len(data.columns)}\")"
   ]
  },
  {
   "cell_type": "code",
   "execution_count": 12,
   "id": "faf4c38a",
   "metadata": {},
   "outputs": [],
   "source": [
    "def null_details(data: Union[pd.DataFrame, np.ndarray]):\n",
    "    print(f\"Are there any Null Values in dataset? ---- {data.isnull().values.any()}\")\n",
    "    print(f\"Total null values in dataset? ---- {data.isnull().sum().sum()}\")\n",
    "    print(f\"The size of our dataset is {len(data)}\")\n",
    "    print(f\"The size of our dataset is {len(data.columns)}\")\n",
    "    \n",
    "def modify_date_format(dataset):\n",
    "    df = pd.DataFrame(dataset)\n",
    "    df['Date'] = pd.to_datetime(df['Date'], dayfirst=True).dt.strftime('%d-%m-%Y')\n",
    "    return df\n",
    "\n",
    "def select_columns(data: Union[pd.DataFrame, np.ndarray], columns_to_keep):\n",
    "    if isinstance(data, np.ndarray):\n",
    "        data = pd.DataFrame(data)\n",
    "\n",
    "    data = data[columns_to_keep]\n",
    "\n",
    "    return data\n",
    "\n",
    "def preprocess_data(data: Union[pd.DataFrame, np.ndarray]) -> Union[pd.DataFrame, np.ndarray]:\n",
    "    \"\"\"Preprocesses the dataframe by\n",
    "    (i)   removing the unnecessary columns,\n",
    "    (ii)  loading date in proper format DD-MM-YYYY,\n",
    "    (iii) removing the rows with missing values,\n",
    "    (iv)  anything else you feel is required for training your model.\n",
    "\n",
    "    Args:\n",
    "        data (pd.DataFrame, nd.ndarray): Pandas dataframe containing the loaded data\n",
    "\n",
    "    Returns:\n",
    "        pd.DataFrame, np.ndarray: Datastructure containing the cleaned data.\n",
    "    \"\"\"\n",
    "    columns_to_keep = ['Innings', 'Innings.Total.Runs', 'Total.Overs', 'Wickets.in.Hand', 'Over', 'Total.Runs']\n",
    "    \n",
    "    print(\"Details before Preprocessing\")\n",
    "    print(\"-\"*40)\n",
    "    null_details(data)\n",
    "    data = data.dropna()\n",
    "    data = select_columns(data, columns_to_keep)\n",
    "    print(\"Details After Preprocessing\")\n",
    "    print(\"-\"*40)\n",
    "    null_details(data)\n",
    "    \n",
    "    return data"
   ]
  },
  {
   "cell_type": "code",
   "execution_count": 13,
   "id": "1535c695",
   "metadata": {},
   "outputs": [
    {
     "name": "stdout",
     "output_type": "stream",
     "text": [
      "Details before Preprocessing\n",
      "----------------------------------------\n",
      "Are there any Null Values in dataset? ---- True\n",
      "Total null values in dataset? ---- 1109\n",
      "The size of our dataset is 126768\n",
      "The size of our dataset is 38\n",
      "Details After Preprocessing\n",
      "----------------------------------------\n",
      "Are there any Null Values in dataset? ---- False\n",
      "Total null values in dataset? ---- 0\n",
      "The size of our dataset is 125659\n",
      "The size of our dataset is 6\n"
     ]
    }
   ],
   "source": [
    "data = preprocess_data(data)"
   ]
  },
  {
   "cell_type": "code",
   "execution_count": 14,
   "id": "24a41637",
   "metadata": {},
   "outputs": [
    {
     "name": "stdout",
     "output_type": "stream",
     "text": [
      "<class 'pandas.core.frame.DataFrame'>\n",
      "Int64Index: 125659 entries, 0 to 126767\n",
      "Data columns (total 6 columns):\n",
      " #   Column              Non-Null Count   Dtype\n",
      "---  ------              --------------   -----\n",
      " 0   Innings             125659 non-null  int64\n",
      " 1   Innings.Total.Runs  125659 non-null  int64\n",
      " 2   Total.Overs         125659 non-null  int64\n",
      " 3   Wickets.in.Hand     125659 non-null  int64\n",
      " 4   Over                125659 non-null  int64\n",
      " 5   Total.Runs          125659 non-null  int64\n",
      "dtypes: int64(6)\n",
      "memory usage: 6.7 MB\n"
     ]
    }
   ],
   "source": [
    "data.info()"
   ]
  },
  {
   "cell_type": "code",
   "execution_count": null,
   "id": "cab86802",
   "metadata": {},
   "outputs": [],
   "source": []
  }
 ],
 "metadata": {
  "kernelspec": {
   "display_name": "Python 3 (ipykernel)",
   "language": "python",
   "name": "python3"
  },
  "language_info": {
   "codemirror_mode": {
    "name": "ipython",
    "version": 3
   },
   "file_extension": ".py",
   "mimetype": "text/x-python",
   "name": "python",
   "nbconvert_exporter": "python",
   "pygments_lexer": "ipython3",
   "version": "3.11.4"
  }
 },
 "nbformat": 4,
 "nbformat_minor": 5
}
